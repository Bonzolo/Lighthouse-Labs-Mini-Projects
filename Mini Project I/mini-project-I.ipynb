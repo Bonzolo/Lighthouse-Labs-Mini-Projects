{
 "cells": [
  {
   "cell_type": "markdown",
   "metadata": {
    "slideshow": {
     "slide_type": "skip"
    }
   },
   "source": [
    "# Mini-Project I\n",
    "During this project, we will practice handling of complex lists and dictionaries in Python. Plus, we will learn how to work with API documentation. Don't be afraid to search for the information in the [**documentation**](https://api.tfl.gov.uk/swagger/ui/index.html?url=/swagger/docs/v1#!/AccidentStats/AccidentStats_Get).\n",
    "\n",
    "Let's go to the tasks, we have some parsing to do :)!!"
   ]
  },
  {
   "cell_type": "code",
   "execution_count": 2,
   "metadata": {
    "slideshow": {
     "slide_type": "skip"
    }
   },
   "outputs": [],
   "source": [
    "# import packages we need (remember what packages we used yesterday during the API session)\n",
    "# IMPORT HERE\n",
    "import requests as req\n",
    "#config file holds API keys\n",
    "import config as cfg\n",
    "app_id = cfg.transport_for_london_id['key']\n",
    "app_key = cfg.transport_for_london_key['key']\n",
    "url_append = f'?app_id={app_id}&app_key={app_key}'"
   ]
  },
  {
   "cell_type": "code",
   "execution_count": 5,
   "metadata": {
    "slideshow": {
     "slide_type": "skip"
    }
   },
   "outputs": [
    {
     "name": "stdout",
     "output_type": "stream",
     "text": [
      "?app_id=Lighthouse Labs&app_key=ab1c9a9cd30e4d25b4f1ac44bb3f4b4e\n"
     ]
    }
   ],
   "source": [
    "print(url_append)"
   ]
  },
  {
   "cell_type": "code",
   "execution_count": 6,
   "metadata": {
    "slideshow": {
     "slide_type": "skip"
    }
   },
   "outputs": [],
   "source": [
    "# URL\n",
    "aq_url = 'https://api.tfl.gov.uk/AirQuality'"
   ]
  },
  {
   "cell_type": "code",
   "execution_count": 7,
   "metadata": {
    "slideshow": {
     "slide_type": "skip"
    }
   },
   "outputs": [],
   "source": [
    "# We send the request to the API\n",
    "# NOTE: if you don't have your APP_KEY, run this without the url_append\n",
    "aq = req.get(aq_url+url_append)"
   ]
  },
  {
   "cell_type": "code",
   "execution_count": 8,
   "metadata": {
    "slideshow": {
     "slide_type": "skip"
    }
   },
   "outputs": [
    {
     "data": {
      "text/plain": [
       "200"
      ]
     },
     "execution_count": 8,
     "metadata": {},
     "output_type": "execute_result"
    }
   ],
   "source": [
    "# We can check if the request was successful\n",
    "aq.status_code"
   ]
  },
  {
   "cell_type": "code",
   "execution_count": 9,
   "metadata": {
    "slideshow": {
     "slide_type": "skip"
    }
   },
   "outputs": [],
   "source": [
    "# We can export the information that was returned using method .json()\n",
    "# aq.json()"
   ]
  },
  {
   "cell_type": "markdown",
   "metadata": {
    "slideshow": {
     "slide_type": "slide"
    }
   },
   "source": [
    "## Task\n",
    "Parse the dictionary and print the AirQuality predictions for tomorrow \n",
    "\n",
    "'https://api.tfl.gov.uk/AirQuality'\n",
    "\n",
    "``` \n",
    "'Low air pollution forecast valid from Thursday 29 April 12:00 to end of Saturday 1 May GMT'\n",
    "```"
   ]
  },
  {
   "cell_type": "code",
   "execution_count": 10,
   "metadata": {
    "slideshow": {
     "slide_type": "skip"
    }
   },
   "outputs": [
    {
     "data": {
      "text/plain": [
       "'Low air pollution forecast valid from Thursday 29 April 12:00 to end of Saturday 1 May GMT'"
      ]
     },
     "execution_count": 10,
     "metadata": {},
     "output_type": "execute_result"
    }
   ],
   "source": [
    "aq.json()['currentForecast'][1]['forecastSummary']"
   ]
  },
  {
   "cell_type": "code",
   "execution_count": null,
   "metadata": {
    "slideshow": {
     "slide_type": "skip"
    }
   },
   "outputs": [],
   "source": []
  },
  {
   "cell_type": "markdown",
   "metadata": {
    "slideshow": {
     "slide_type": "slide"
    }
   },
   "source": [
    "## Task\n",
    "What are the different modes of transport which are operated by Transfer for London? How many of modes do they have?\n",
    "\n",
    "Print the list with different modes of transport, plus their count. Example output:\n",
    "```\n",
    "[bus, cable-car,.....]\n",
    "Number of different modes of transport is: xyz\n",
    "```"
   ]
  },
  {
   "cell_type": "code",
   "execution_count": 12,
   "metadata": {
    "slideshow": {
     "slide_type": "skip"
    }
   },
   "outputs": [],
   "source": [
    "mode_url = 'https://api.tfl.gov.uk/Line/Meta/Modes'\n",
    "mode = req.get(mode_url+url_append)\n",
    "mode_data = mode.json()"
   ]
  },
  {
   "cell_type": "code",
   "execution_count": 13,
   "metadata": {
    "slideshow": {
     "slide_type": "skip"
    }
   },
   "outputs": [
    {
     "name": "stdout",
     "output_type": "stream",
     "text": [
      "['bus', 'cable-car', 'cycle-hire', 'dlr', 'overground', 'replacement-bus', 'river-bus', 'river-tour', 'tflrail', 'tram', 'tube']\n",
      "Number of different modes of transport is: 11\n"
     ]
    }
   ],
   "source": [
    "mode = []\n",
    "for i in range(len(mode_data)):\n",
    "    if mode_data [i]['isTflService'] == True:\n",
    "        mode.append(mode_data[i]['modeName'])\n",
    "print(mode)\n",
    "print ('Number of different modes of transport is: '+ str(len(mode)))"
   ]
  },
  {
   "cell_type": "markdown",
   "metadata": {
    "slideshow": {
     "slide_type": "slide"
    }
   },
   "source": [
    "## Task\n",
    "How many BikePoints in London are operated by Transfor for London? How many docks are in **all** BikePoints? There is the information for empty and full docks for each BikePoint."
   ]
  },
  {
   "cell_type": "code",
   "execution_count": 13,
   "metadata": {
    "slideshow": {
     "slide_type": "skip"
    }
   },
   "outputs": [],
   "source": [
    "bikepoints_url = 'https://api.tfl.gov.uk/BikePoint/'\n",
    "bikepoints = req.get(bikepoints_url+url_append)\n",
    "bikepoints_data = bikepoints.json()"
   ]
  },
  {
   "cell_type": "code",
   "execution_count": 14,
   "metadata": {
    "slideshow": {
     "slide_type": "skip"
    }
   },
   "outputs": [
    {
     "name": "stdout",
     "output_type": "stream",
     "text": [
      "Number of BikePoints in London = 788\n",
      "Number of total docks in all BikePoints = 20942\n"
     ]
    }
   ],
   "source": [
    "n_bikepoints = len(bikepoints_data)\n",
    "n_docks = 0\n",
    "for i in range(len(bikepoints_data)):\n",
    "    n_docks += int(bikepoints_data[i]['additionalProperties'][8]['value'])\n",
    "\n",
    "print('Number of BikePoints in London = ' +str(n_bikepoints))\n",
    "print('Number of total docks in all BikePoints = ' +str(n_docks))"
   ]
  },
  {
   "cell_type": "markdown",
   "metadata": {
    "slideshow": {
     "slide_type": "slide"
    }
   },
   "source": [
    "## Task\n",
    "How many tube and bus lines are in London? Print names of all tube lines."
   ]
  },
  {
   "cell_type": "code",
   "execution_count": 15,
   "metadata": {
    "slideshow": {
     "slide_type": "skip"
    }
   },
   "outputs": [],
   "source": [
    "lines_url = 'https://api.tfl.gov.uk/Line/Route'\n",
    "lines = req.get(lines_url + url_append)\n",
    "lines_data = lines.json()"
   ]
  },
  {
   "cell_type": "code",
   "execution_count": 16,
   "metadata": {
    "slideshow": {
     "slide_type": "skip"
    }
   },
   "outputs": [],
   "source": [
    "n_tube = 0\n",
    "n_bus = 0\n",
    "tube_list = []\n",
    "\n",
    "for i in range(len(lines_data)):\n",
    "    if lines_data[i]['modeName'] == 'bus':\n",
    "        n_bus += 1\n",
    "    elif lines_data [i]['modeName'] =='tube':\n",
    "        n_tube += 1\n",
    "        tube_list.append(lines_data[i]['name'])\n",
    "\n",
    "        \n"
   ]
  },
  {
   "cell_type": "code",
   "execution_count": 17,
   "metadata": {
    "slideshow": {
     "slide_type": "skip"
    }
   },
   "outputs": [
    {
     "name": "stdout",
     "output_type": "stream",
     "text": [
      "Number of bus lines = 679\n",
      "Number of tube lines = 11\n",
      "['Bakerloo', 'Central', 'Circle', 'District', 'Hammersmith & City', 'Jubilee', 'Metropolitan', 'Northern', 'Piccadilly', 'Victoria', 'Waterloo & City']\n"
     ]
    }
   ],
   "source": [
    "print('Number of bus lines = ' +str(n_bus))\n",
    "print('Number of tube lines = ' +str(n_tube))\n",
    "print(tube_list)"
   ]
  },
  {
   "cell_type": "markdown",
   "metadata": {
    "slideshow": {
     "slide_type": "slide"
    }
   },
   "source": [
    "## Task\n",
    "How many station has `victoria` line?\n"
   ]
  },
  {
   "cell_type": "code",
   "execution_count": 18,
   "metadata": {
    "slideshow": {
     "slide_type": "skip"
    }
   },
   "outputs": [],
   "source": [
    "victoria_url = 'https://api.tfl.gov.uk/Line/{id}/StopPoints'\n",
    "params = {'id' : 'victoria'}\n",
    "victoria = req.get(victoria_url, params = params)\n",
    "victoria_data = victoria.json()"
   ]
  },
  {
   "cell_type": "code",
   "execution_count": 19,
   "metadata": {
    "slideshow": {
     "slide_type": "skip"
    }
   },
   "outputs": [],
   "source": [
    "n_station = len(victoria_data)"
   ]
  },
  {
   "cell_type": "code",
   "execution_count": 20,
   "metadata": {
    "slideshow": {
     "slide_type": "skip"
    }
   },
   "outputs": [
    {
     "name": "stdout",
     "output_type": "stream",
     "text": [
      "Number of stations in Victoria line = 16\n"
     ]
    }
   ],
   "source": [
    "print('Number of stations in Victoria line = ' +str(n_station))"
   ]
  },
  {
   "cell_type": "markdown",
   "metadata": {
    "slideshow": {
     "slide_type": "slide"
    }
   },
   "source": [
    "## Task\n",
    "Plan the journey from Heathrow Airport to Tower Bridge using Bus and Tube? Which way is faster? Example output:\n",
    "```\n",
    "Planned duration:\n",
    "Bus: x minutes\n",
    "Tube: y minutes\n",
    "```"
   ]
  },
  {
   "cell_type": "code",
   "execution_count": 21,
   "metadata": {
    "slideshow": {
     "slide_type": "skip"
    }
   },
   "outputs": [],
   "source": [
    "#have to use postal codes as you are unable to get results via longitudes/latitudes\n",
    "origin = 'TW6 1AP'\n",
    "destination = 'SE1 4TW'\n",
    "url = 'https://api.tfl.gov.uk/Journey/JourneyResults/{from}/to/{to}[&mode][&journeyPreference]'\n",
    "bus = req.get(url,params = {'from':origin, 'to':destination, 'mode':'bus', 'journeyPreference':'leasttime'})\n",
    "tube = req.get(url,params = {'from':origin, 'to':destination, 'mode':'tube', 'journeyPreference':'leasttime'})"
   ]
  },
  {
   "cell_type": "code",
   "execution_count": 22,
   "metadata": {
    "slideshow": {
     "slide_type": "skip"
    }
   },
   "outputs": [],
   "source": [
    "bus_time = []\n",
    "tube_time = []\n",
    "for i in range(len(bus.json()['journeys'])):\n",
    "    bus_time.append(bus.json()['journeys'][i]['duration'])\n",
    "    tube_time.append(tube.json()['journeys'][i]['duration'])"
   ]
  },
  {
   "cell_type": "code",
   "execution_count": 23,
   "metadata": {
    "slideshow": {
     "slide_type": "skip"
    }
   },
   "outputs": [
    {
     "name": "stdout",
     "output_type": "stream",
     "text": [
      "Planned duration:\n",
      "Bus: 100 minutes\n",
      "Tube: 97 minutes\n"
     ]
    }
   ],
   "source": [
    "print('Planned duration:')\n",
    "print('Bus: ' + str(min(bus_time)) + ' minutes')\n",
    "print('Tube: ' + str(min(tube_time)) + ' minutes')"
   ]
  }
 ],
 "metadata": {
  "celltoolbar": "Slideshow",
  "kernelspec": {
   "display_name": "Python 3",
   "language": "python",
   "name": "python3"
  },
  "language_info": {
   "codemirror_mode": {
    "name": "ipython",
    "version": 3
   },
   "file_extension": ".py",
   "mimetype": "text/x-python",
   "name": "python",
   "nbconvert_exporter": "python",
   "pygments_lexer": "ipython3",
   "version": "3.8.5"
  }
 },
 "nbformat": 4,
 "nbformat_minor": 4
}
